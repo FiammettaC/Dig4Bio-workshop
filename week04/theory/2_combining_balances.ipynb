{
 "cells": [
  {
   "cell_type": "markdown",
   "id": "2afb139c-1c01-42ef-8cd3-11f29564533f",
   "metadata": {},
   "source": [
    "# Energy balance for a laboratory equipment batch reactor for chemical synthesis"
   ]
  },
  {
   "cell_type": "markdown",
   "id": "66daf4d9-d025-4e9a-9643-ddbc197a7b54",
   "metadata": {},
   "source": [
    "In this programming exercise you will also have from a chemical engineering point of view the task to develop the energy balance for a batch reactor. This is a task, we have not yet investigated in the lectures or group exercises. \n",
    "We consider the following Reaction taking place in a laboratory sized reactor using a liquid phase:\n",
    "\n",
    "$A→B$\n",
    "\n",
    "The setup is described in the following:\n",
    "![alt text](assignment2_system.png)\n",
    "\n",
    "You can assume that the reaction order follows an elementary reaction and you have found in literature the rate velocity coefficient at 298 K to be 0.005 min-1. \n",
    "Please perform with help the following analysis:\n",
    "1. Calculate the conversion and the Temperature as a function of time under the assumption that the reactor is operated under adiabatic conditions starting with a temperature of 298 K. \n",
    "2. Repeat the calculations for the heated reactor. Here the heating bed will generate a constant temperature of 398 K. Plot the conversion and temperature of the reactor as function of the time\n",
    "3. Repeat the calculations for the reactor without reaction, in other words show how the reactor and the reactor mixture would behave as function of time assuming that no reaction takes place.\n"
   ]
  },
  {
   "cell_type": "code",
   "execution_count": null,
   "id": "d535d219-9667-4662-b310-453734c7efdd",
   "metadata": {},
   "outputs": [],
   "source": [
    "# Your code here"
   ]
  }
 ],
 "metadata": {
  "kernelspec": {
   "display_name": "Python 3 (ipykernel)",
   "language": "python",
   "name": "python3"
  },
  "language_info": {
   "codemirror_mode": {
    "name": "ipython",
    "version": 3
   },
   "file_extension": ".py",
   "mimetype": "text/x-python",
   "name": "python",
   "nbconvert_exporter": "python",
   "pygments_lexer": "ipython3",
   "version": "3.9.7"
  }
 },
 "nbformat": 4,
 "nbformat_minor": 5
}
